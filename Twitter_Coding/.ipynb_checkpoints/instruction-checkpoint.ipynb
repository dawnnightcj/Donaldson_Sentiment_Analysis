{
 "cells": [
  {
   "cell_type": "code",
   "execution_count": 38,
   "id": "f6dcbc8e",
   "metadata": {},
   "outputs": [],
   "source": [
    "import tweepy\n",
    "import configparser\n",
    "from twitter_auth import bearer_token\n",
    "import pandas as pd"
   ]
  },
  {
   "cell_type": "code",
   "execution_count": 31,
   "id": "e273e376",
   "metadata": {},
   "outputs": [
    {
     "data": {
      "text/plain": [
       "['config.ini']"
      ]
     },
     "execution_count": 31,
     "metadata": {},
     "output_type": "execute_result"
    }
   ],
   "source": [
    "#read configs\n",
    "config = configparser.ConfigParser()\n",
    "config.read('config.ini')"
   ]
  },
  {
   "cell_type": "code",
   "execution_count": 39,
   "id": "affa1a24",
   "metadata": {},
   "outputs": [],
   "source": [
    "api_key = config['twitter']['api_key']\n",
    "api_key_secret = config['twitter']['api_key_secret']\n",
    "\n",
    "access_token = config['twitter']['access_token']\n",
    "access_token_secret = config['twitter']['access_token_secret']\n",
    "\n",
    "\n",
    "#bearer_token = 'AAAAAAAAAAAAAAAAAAAAALhJiQEAAAAAKYQFKrgGWKZZUADKawYJ4Djl94o%3DdGauxsLDcBYBGot24HwAHMME6M1Hz7NwudIjtgV6wv6UB3sIMu'\n",
    "\n"
   ]
  },
  {
   "cell_type": "markdown",
   "id": "07b6bfde",
   "metadata": {},
   "source": [
    "# Authentication"
   ]
  },
  {
   "cell_type": "code",
   "execution_count": 11,
   "id": "43071899",
   "metadata": {},
   "outputs": [],
   "source": [
    "auth = tweepy.OAuthHandler(api_key, api_key_secret)\n",
    "auth.set_access_token(access_token, access_token_secret)\n",
    "\n",
    "api = tweepy.API(auth)"
   ]
  },
  {
   "cell_type": "markdown",
   "id": "95281d81",
   "metadata": {},
   "source": [
    "# Public Tweets"
   ]
  },
  {
   "cell_type": "code",
   "execution_count": 16,
   "id": "44e66830",
   "metadata": {},
   "outputs": [
    {
     "name": "stdout",
     "output_type": "stream",
     "text": [
      "RT @MassDPH: Test positive for COVID-19? Use our free telehealth service as soon as possible to see if Paxlovid is right for you. If it is,…\n",
      "\n",
      "\n",
      "RT @MassDPH: The COVID-19 booster helps protect against new variants. Now kids 5 years and older can get the updated pediatric booster. Cal…\n",
      "\n",
      "\n",
      "RT @MassDPH: The best way to prevent illness this year? Get vaccinated against the flu and COVID-19. Protect yourself and your family. Lear…\n",
      "\n",
      "\n",
      "RT @MassDPH: DPH is offering free COVID vaccinations for everyone 6 months and older – and boosters for everyone 5 years and older – at com…\n",
      "\n",
      "\n",
      "RT @MassDPH: The best way to prevent illness this year? Get vaccinated against the flu and COVID-19. Protect yourself and your family. Lear…\n",
      "\n",
      "\n",
      "RT @MassDPH: This season, your body needs protection against two viruses—flu and COVID-19. Get vaccinated against both to help keep yoursel…\n",
      "\n",
      "\n",
      "RT @MassDPH: The COVID-19 booster helps protect against new variants. Now kids 5 years and older can get the updated pediatric booster. Cal…\n",
      "\n",
      "\n",
      "RT @MassDPH: Massachusetts offers in-home COVID-19 vaccinations for anyone who has difficulty getting to or using a community clinic, inclu…\n",
      "\n",
      "\n",
      "RT @MassDPH: DPH is offering free COVID vaccinations for everyone 6 months and older – and boosters for everyone 5 years and older – at com…\n",
      "\n",
      "\n",
      "RT @MassDPH: Tested positive for COVID-19 and have symptoms? Prescription treatments are available. Start soon and help reduce your risk. L…\n",
      "\n",
      "\n",
      "RT @MassDPH: DPH is offering free COVID vaccinations for everyone 6 months and older – and boosters for everyone 5 years and older – at com…\n",
      "\n",
      "\n",
      "To-do list for today:\n",
      "✔️ Tweet\n",
      "✔️ Have fun\n",
      "\n",
      "\n",
      "RT @MassDPH: DPH is offering free COVID vaccinations for everyone 6 months and older – and boosters for everyone 5 years and older – at com…\n",
      "\n",
      "\n",
      "RT @MassDPH: Test positive for COVID-19? Use our free telehealth service as soon as possible to see if Paxlovid is right for you. If it is,…\n",
      "\n",
      "\n",
      "RT @MassDPH: This season, your body needs protection against two viruses—flu and COVID-19. Get vaccinated against both to help keep yoursel…\n",
      "\n",
      "\n",
      "RT @MassDPH: The COVID-19 booster helps protect against new variants. Now kids 5 years and older can get the updated pediatric booster. Cal…\n",
      "\n",
      "\n",
      "RT @MassDPH: Tested positive for COVID-19 and have symptoms? Prescription treatments are available. Start soon and help reduce your risk. L…\n",
      "\n",
      "\n",
      "RT @MassDPH: The COVID-19 booster helps protect against new variants. Now kids 5 years and older can get the updated pediatric booster. Cal…\n",
      "\n",
      "\n",
      "RT @MassDPH: Massachusetts offers in-home COVID-19 vaccinations for anyone who has difficulty getting to or using a community clinic, inclu…\n",
      "\n",
      "\n",
      "RT @MassDPH: The best way to prevent illness this year? Get vaccinated against the flu and COVID-19. Protect yourself and your family. Lear…\n",
      "\n",
      "\n"
     ]
    }
   ],
   "source": [
    "public_tweets = api.home_timeline()\n",
    "\n",
    "for tweets in public_tweets:\n",
    "    print(tweets.text)\n",
    "    print('\\n')"
   ]
  },
  {
   "cell_type": "markdown",
   "id": "e90ce42a",
   "metadata": {},
   "source": [
    "# Transfer public tweets into CSV file"
   ]
  },
  {
   "cell_type": "code",
   "execution_count": 19,
   "id": "f29a736e",
   "metadata": {},
   "outputs": [],
   "source": [
    "columns = ['Time', 'User', 'Tweet']\n",
    "data = []\n",
    "\n",
    "for tweet in public_tweets:\n",
    "    data.append([tweet.created_at, tweet.user.screen_name, tweet.text])\n",
    "\n",
    "print(data)"
   ]
  },
  {
   "cell_type": "code",
   "execution_count": 22,
   "id": "5333ddcb",
   "metadata": {},
   "outputs": [],
   "source": [
    "df = pd.DataFrame(data=data, columns=columns)\n",
    "print(df)"
   ]
  },
  {
   "cell_type": "code",
   "execution_count": 24,
   "id": "bb4e026f",
   "metadata": {},
   "outputs": [],
   "source": [
    "df.to_csv(\"tweet.csv\")"
   ]
  },
  {
   "cell_type": "code",
   "execution_count": null,
   "id": "ce652c59",
   "metadata": {},
   "outputs": [],
   "source": []
  },
  {
   "cell_type": "code",
   "execution_count": null,
   "id": "9850811f",
   "metadata": {},
   "outputs": [],
   "source": []
  },
  {
   "cell_type": "markdown",
   "id": "d7ac2ff7",
   "metadata": {},
   "source": [
    "# Full Archive Search"
   ]
  },
  {
   "cell_type": "code",
   "execution_count": 40,
   "id": "a15b27c6",
   "metadata": {},
   "outputs": [],
   "source": [
    "client = tweepy.Client(bearer_token, wait_on_rate_limit = True)"
   ]
  },
  {
   "cell_type": "code",
   "execution_count": null,
   "id": "2d9ac91c",
   "metadata": {},
   "outputs": [],
   "source": [
    "tweets = []\n",
    "for response in tweepy.Paginator(client.search_all_tweets, \n",
    "                                 query = 'COVID hoax -is:retweet lang:en',\n",
    "                                 user_fields = ['username', 'public_metrics', 'description', 'location'],\n",
    "                                 tweet_fields = ['created_at', 'geo', 'public_metrics', 'text'],\n",
    "                                 expansions = 'author_id',\n",
    "                                 start_time = '2021-01-20T00:00:00Z',\n",
    "                                 end_time = '2021-01-21T00:00:00Z',\n",
    "                              max_results=500):\n",
    "    time.sleep(1)\n",
    "    hoax_tweets.append(response)"
   ]
  }
 ],
 "metadata": {
  "kernelspec": {
   "display_name": "Python 3 (ipykernel)",
   "language": "python",
   "name": "python3"
  },
  "language_info": {
   "codemirror_mode": {
    "name": "ipython",
    "version": 3
   },
   "file_extension": ".py",
   "mimetype": "text/x-python",
   "name": "python",
   "nbconvert_exporter": "python",
   "pygments_lexer": "ipython3",
   "version": "3.9.7"
  }
 },
 "nbformat": 4,
 "nbformat_minor": 5
}
